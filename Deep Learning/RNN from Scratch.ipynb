{
 "cells": [
  {
   "cell_type": "markdown",
   "metadata": {},
   "source": [
    "### Introduction"
   ]
  },
  {
   "cell_type": "markdown",
   "metadata": {},
   "source": [
    "<img src=\"../images/RNN Diagram.png\">"
   ]
  },
  {
   "cell_type": "code",
   "execution_count": 1,
   "metadata": {},
   "outputs": [],
   "source": [
    "import numpy as np"
   ]
  },
  {
   "cell_type": "code",
   "execution_count": 2,
   "metadata": {},
   "outputs": [],
   "source": [
    "def sigmoid(x):\n",
    "    return 1/(1 + np.exp(-np.clip(x, -500, 500)))"
   ]
  },
  {
   "cell_type": "code",
   "execution_count": 3,
   "metadata": {},
   "outputs": [],
   "source": [
    "def softmax(x):\n",
    "    pass"
   ]
  },
  {
   "cell_type": "markdown",
   "metadata": {},
   "source": [
    "An RNN Unit at time-step $t$ takes as input: <br/>\n",
    "* a minibatch of 'words' denoted by $x^{(t)}$, of dimensions $N \\times d$, and <br/>\n",
    "* the 'hidden-state' vector $h^{(t-1)}$ from the previous unit, of dimensions $N \\times D_h$.\n",
    "\n",
    "**Note: $d$ and $D_h$ are hyper-parmaters, i.e. we _chose_ to represent each hidden state using a vector of length $D_h$ and we _chose_ to use 'word embedding' vectors of length $d$.**\n",
    "\n",
    "The code below implements a single RNN Unit's computation. The output is the 'hidden-state' vector $h^{(t)}$ for this unit, of dimensions $N \\times D_h$. (In this notebook, $h^{(t)}$ for time-step $t$ is always referred to as $h\\_next$)."
   ]
  },
  {
   "cell_type": "code",
   "execution_count": 3,
   "metadata": {},
   "outputs": [],
   "source": [
    "def rnn_step_forward(x_t, h_prev, Wh, We, b1):\n",
    "    h_next = sigmoid(np.matmul(h_prev, Wh.T) + np.matmul(x_t, We.T) + b1)\n",
    "    cache = h_prev, h_next, x_t\n",
    "    return h_next, cache"
   ]
  },
  {
   "cell_type": "markdown",
   "metadata": {},
   "source": [
    "An RNN Unit depends on the previous RNN Unit's hidden-state (this is not different from any plain feedforward network). Therefore we sequentially run the $rnn\\_step\\_forward$ method implemented above, for each time step.\n",
    "\n",
    "**Note: One crucial difference from a plain feedforward network is that each RNN Unit uses the same parameters $W_h$, $W_e$, and $b_1$. This point of difference will have a significant bearing on how we backprop through an RNN.**\n",
    "\n",
    "The code below implements the forward pass through an RNN. We are given as inputs:\n",
    "* a minibatch of 'word sequences' denoted by $x$, of dimensions $N \\times T \\times d$, where $N$ is the numnber of minibatches and $T$ is the length of each sequence,\n",
    "* an initial state vector denoted by $h^{(0)}$ of dimensions $N \\times D_h$"
   ]
  },
  {
   "cell_type": "code",
   "execution_count": 4,
   "metadata": {},
   "outputs": [],
   "source": [
    "def rnn_forward(T, x, h_0, Wh, We, b1):\n",
    "    N, T, d = x.shape\n",
    "    _, Dh = h_0.shape\n",
    "    h = np.zeros((N, T, Dh))\n",
    "    h_prev = h_0\n",
    "    cache = {}\n",
    "    for t in range(T):\n",
    "        h[:, t, :],  cache_step = rnn_step_forward(x[:,t,:], h_prev, Wh, We, b1) \n",
    "        h_prev = h[:, t, :]\n",
    "        cache.update({t : cache_step})"
   ]
  },
  {
   "cell_type": "markdown",
   "metadata": {},
   "source": [
    "At each time-step $t$, we are given as inputs:\n",
    "* the cache for this time-step saved during our forward pass - cache stores $h^{(t)}$ and $h^{(t-1)}$,\n",
    "* the gradient of total loss $J$ with respect to $h^{(t)}$, denoted by $dh\\_next$, of dimensions $N \\times D_h$."
   ]
  },
  {
   "cell_type": "code",
   "execution_count": 5,
   "metadata": {},
   "outputs": [],
   "source": [
    "def rnn_step_backward(dh_next, cache):\n",
    "    h_prev, h_next, x_t = cache\n",
    "    dsigmoid = h_next*(1 - h_next)\n",
    "    dWh = np.matmul(h_prev.T, dh_next*dsigmoid)\n",
    "    dWe = np.matmul(x_t.T, dh_next*dsigmoid)\n",
    "    dh_prev = 0"
   ]
  },
  {
   "cell_type": "code",
   "execution_count": 2,
   "metadata": {},
   "outputs": [],
   "source": [
    "def rnn_backward():\n",
    "    pass"
   ]
  },
  {
   "cell_type": "markdown",
   "metadata": {},
   "source": [
    "Atop each RNN Unit, sits an Affine layer which takes the vector $h^{(t)}$ as input, applies an Affine transformation, and computes the Softmax Probability. The parameters of this layer are $U \\space (Dim: D_{h} \\times V )$ and $b_2 \\space (Dim: V \\times 1)$. \n",
    "\n",
    "We do not have to implement a separate Affine layer for each time-step. Unlike in the case of an RNN Unit where the computation inside it depended on the output of its previous unit, the Affine computations at each time-step are independent of each other. Therefore, once we have computed $h^{(t)}$ for each time-step, we will perform the Affine computation for ALL $T$ time-steps in one go, taking into impact the contribution from ALL mini-batches."
   ]
  },
  {
   "cell_type": "code",
   "execution_count": 8,
   "metadata": {},
   "outputs": [],
   "source": [
    "def affine_forward(h, U, b2):\n",
    "    N, T, Dh = h.shape\n",
    "    V = b2.shape[0]\n",
    "    theta = (np.matmul(h.reshape(N*T, Dh), U) + b2).reshape(N, T, V)\n",
    "    cache = U, b2, h\n",
    "    return theta, cache"
   ]
  },
  {
   "cell_type": "code",
   "execution_count": 7,
   "metadata": {},
   "outputs": [],
   "source": [
    "def affine_backward(dtheta, cache):\n",
    "    U, b2, h = cache\n",
    "    Dh = U.shape[0]\n",
    "    N, T, V = dtheta.shape\n",
    "    dh = np.matmul(dtheta.reshape(N*T, V), U).reshape(N, T, Dh)\n",
    "    dU = np.matmul((dtheta.reshape(N*T, V).T), h.reshape(N*T, Dh))\n",
    "    db2 = dtheta.sum(axis=(0,1))\n",
    "    return dh, dU, db2\n"
   ]
  },
  {
   "cell_type": "code",
   "execution_count": null,
   "metadata": {},
   "outputs": [],
   "source": []
  }
 ],
 "metadata": {
  "kernelspec": {
   "display_name": "Python 3",
   "language": "python",
   "name": "python3"
  },
  "language_info": {
   "codemirror_mode": {
    "name": "ipython",
    "version": 3
   },
   "file_extension": ".py",
   "mimetype": "text/x-python",
   "name": "python",
   "nbconvert_exporter": "python",
   "pygments_lexer": "ipython3",
   "version": "3.6.4"
  }
 },
 "nbformat": 4,
 "nbformat_minor": 2
}
